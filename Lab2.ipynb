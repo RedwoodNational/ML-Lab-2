{
 "cells": [
  {
   "cell_type": "code",
   "execution_count": 1,
   "metadata": {
    "colab": {},
    "colab_type": "code",
    "id": "N9iytAoOXP72"
   },
   "outputs": [],
   "source": [
    "import pandas as pd\n",
    "import numpy as np\n",
    "\n",
    "from models.logistic_regression import *\n",
    "from models.knn import *\n",
    "from models.decision_tree import *\n",
    "from models.random_forest import *\n",
    "\n",
    "\n",
    "from sklearn.ensemble import RandomForestClassifier\n",
    "from sklearn.tree import DecisionTreeClassifier\n",
    "from sklearn.neighbors import KNeighborsClassifier \n",
    "from sklearn.linear_model import LogisticRegression\n",
    "\n",
    "from sklearn.model_selection import KFold\n",
    "from sklearn.metrics import accuracy_score\n",
    "\n",
    "seed = 10\n",
    "np.random.seed(seed)\n",
    "\n",
    "import warnings\n",
    "warnings.filterwarnings(\"ignore\")"
   ]
  },
  {
   "cell_type": "code",
   "execution_count": 2,
   "metadata": {
    "colab": {},
    "colab_type": "code",
    "id": "ufyNSBDtXP77"
   },
   "outputs": [],
   "source": [
    "def custom_CV(model, X, y, k_folds=5):\n",
    "    kf = KFold(n_splits=k_folds, random_state=seed, shuffle=True)\n",
    "    scores = np.zeros(k_folds)    \n",
    "    for i, (train_index, val_index) in enumerate(kf.split(X, y)):\n",
    "        X_train, y_train = X.loc[train_index].to_numpy(), y.loc[train_index].to_numpy()\n",
    "        X_val, y_val = X.loc[val_index].to_numpy(), y.loc[val_index].to_numpy()\n",
    "        model.fit(X_train, y_train)\n",
    "        y_pred = model.predict(X_val)\n",
    "        scores[i] = accuracy_score(y_val, y_pred)\n",
    "    return scores"
   ]
  },
  {
   "cell_type": "markdown",
   "metadata": {
    "colab_type": "text",
    "id": "DVuSfzbbXP79"
   },
   "source": [
    "# Credit risk dataset"
   ]
  },
  {
   "cell_type": "code",
   "execution_count": 3,
   "metadata": {
    "colab": {},
    "colab_type": "code",
    "id": "UAUkqg5DXP7-"
   },
   "outputs": [],
   "source": [
    "df = pd.read_csv('../data/modified_credit_risk.csv')\n",
    "X, y = df.drop(['label'], axis=1), df['label']"
   ]
  },
  {
   "cell_type": "markdown",
   "metadata": {
    "colab_type": "text",
    "id": "yOKbWk72XP8C"
   },
   "source": [
    "### Logistic regression"
   ]
  },
  {
   "cell_type": "code",
   "execution_count": 4,
   "metadata": {
    "colab": {
     "base_uri": "https://localhost:8080/",
     "height": 68
    },
    "colab_type": "code",
    "id": "gNevCcysXP8D",
    "outputId": "3a946bc1-81a1-44ef-c981-ff39ad39bde1"
   },
   "outputs": [
    {
     "name": "stdout",
     "output_type": "stream",
     "text": [
      "Acc: 0.80 +/- 0.03\n",
      "CPU times: user 110 ms, sys: 67.5 ms, total: 178 ms\n",
      "Wall time: 62.5 ms\n"
     ]
    }
   ],
   "source": [
    "%%time\n",
    "lr = LogisticRegression()\n",
    "scores = custom_CV(lr, X, y)\n",
    "print(\"Acc: %0.2f +/- %0.2f\" % (scores.mean(), scores.std() * 2))"
   ]
  },
  {
   "cell_type": "code",
   "execution_count": 5,
   "metadata": {
    "colab": {
     "base_uri": "https://localhost:8080/",
     "height": 68
    },
    "colab_type": "code",
    "id": "dY1KcwEXXP8H",
    "outputId": "0bf2c577-39d8-45db-ce8e-1f527cac60bf"
   },
   "outputs": [
    {
     "name": "stdout",
     "output_type": "stream",
     "text": [
      "Acc: 0.80 +/- 0.03\n",
      "CPU times: user 590 ms, sys: 360 ms, total: 949 ms\n",
      "Wall time: 268 ms\n"
     ]
    }
   ],
   "source": [
    "%%time\n",
    "lr = LogRegression()\n",
    "scores = custom_CV(lr, X, y)\n",
    "print(\"Acc: %0.2f +/- %0.2f\" % (scores.mean(), scores.std() * 2))"
   ]
  },
  {
   "cell_type": "markdown",
   "metadata": {
    "colab_type": "text",
    "id": "1h5uFAWtXP8M"
   },
   "source": [
    "### KNN"
   ]
  },
  {
   "cell_type": "code",
   "execution_count": 6,
   "metadata": {
    "colab": {
     "base_uri": "https://localhost:8080/",
     "height": 68
    },
    "colab_type": "code",
    "id": "I-hWa9uzXP8N",
    "outputId": "1c7871e5-b958-42a9-8313-6ee77bfcdd9e"
   },
   "outputs": [
    {
     "name": "stdout",
     "output_type": "stream",
     "text": [
      "Acc: 0.77 +/- 0.04\n",
      "CPU times: user 167 ms, sys: 85.1 ms, total: 252 ms\n",
      "Wall time: 138 ms\n"
     ]
    }
   ],
   "source": [
    "%%time\n",
    "knn = KNeighborsClassifier()\n",
    "scores = custom_CV(knn, X, y)\n",
    "print(\"Acc: %0.2f +/- %0.2f\" % (scores.mean(), scores.std() * 2))"
   ]
  },
  {
   "cell_type": "code",
   "execution_count": 7,
   "metadata": {
    "colab": {
     "base_uri": "https://localhost:8080/",
     "height": 68
    },
    "colab_type": "code",
    "id": "nbC5B_5rXP8Q",
    "outputId": "3d6f86b7-caaf-4d99-a37d-911e7c4ee3ea"
   },
   "outputs": [
    {
     "name": "stdout",
     "output_type": "stream",
     "text": [
      "Acc: 0.77 +/- 0.04\n",
      "CPU times: user 344 ms, sys: 232 ms, total: 576 ms\n",
      "Wall time: 168 ms\n"
     ]
    }
   ],
   "source": [
    "%%time\n",
    "knn = KNNClassifier()\n",
    "scores = custom_CV(knn, X, y)\n",
    "print(\"Acc: %0.2f +/- %0.2f\" % (scores.mean(), scores.std() * 2))"
   ]
  },
  {
   "cell_type": "markdown",
   "metadata": {
    "colab_type": "text",
    "id": "1cNHEnsZXP8V"
   },
   "source": [
    "### Decision tree"
   ]
  },
  {
   "cell_type": "code",
   "execution_count": 8,
   "metadata": {
    "colab": {
     "base_uri": "https://localhost:8080/",
     "height": 68
    },
    "colab_type": "code",
    "id": "YzcCUNmJXP8W",
    "outputId": "a6a18711-8c20-4041-d4db-2e799e0ef28b"
   },
   "outputs": [
    {
     "name": "stdout",
     "output_type": "stream",
     "text": [
      "Acc: 0.67 +/- 0.07\n",
      "CPU times: user 94.6 ms, sys: 22.8 ms, total: 117 ms\n",
      "Wall time: 53.4 ms\n"
     ]
    }
   ],
   "source": [
    "%%time\n",
    "dtc = DecisionTreeClassifier()\n",
    "scores = custom_CV(dtc, X, y)\n",
    "print(\"Acc: %0.2f +/- %0.2f\" % (scores.mean(), scores.std() * 2))"
   ]
  },
  {
   "cell_type": "code",
   "execution_count": 9,
   "metadata": {
    "colab": {
     "base_uri": "https://localhost:8080/",
     "height": 68
    },
    "colab_type": "code",
    "id": "jOgJdGz7XP8Z",
    "outputId": "53a6d7fc-fd67-4aa8-eb5b-0e745646a9db"
   },
   "outputs": [
    {
     "name": "stdout",
     "output_type": "stream",
     "text": [
      "Acc: 0.80 +/- 0.03\n",
      "CPU times: user 890 ms, sys: 4.14 ms, total: 894 ms\n",
      "Wall time: 895 ms\n"
     ]
    }
   ],
   "source": [
    "%%time\n",
    "dtc = DTClassifier()\n",
    "scores = custom_CV(dtc, X, y)\n",
    "print(\"Acc: %0.2f +/- %0.2f\" % (scores.mean(), scores.std() * 2))"
   ]
  },
  {
   "cell_type": "markdown",
   "metadata": {
    "colab_type": "text",
    "id": "qc8nmZDuXP8e"
   },
   "source": [
    "### Random Forest"
   ]
  },
  {
   "cell_type": "code",
   "execution_count": 10,
   "metadata": {
    "colab": {
     "base_uri": "https://localhost:8080/",
     "height": 68
    },
    "colab_type": "code",
    "id": "GoMsnlY-XP8e",
    "outputId": "b66f502e-4303-401e-b70d-03d791d550bb"
   },
   "outputs": [
    {
     "name": "stdout",
     "output_type": "stream",
     "text": [
      "Acc: 0.78 +/- 0.04\n",
      "CPU times: user 104 ms, sys: 32 µs, total: 104 ms\n",
      "Wall time: 104 ms\n"
     ]
    }
   ],
   "source": [
    "%%time\n",
    "rfc = RandomForestClassifier()\n",
    "scores = custom_CV(rfc, X, y)\n",
    "print(\"Acc: %0.2f +/- %0.2f\" % (scores.mean(), scores.std() * 2))"
   ]
  },
  {
   "cell_type": "code",
   "execution_count": 11,
   "metadata": {
    "colab": {
     "base_uri": "https://localhost:8080/",
     "height": 68
    },
    "colab_type": "code",
    "id": "wkS5eNr4XP8i",
    "outputId": "4c345960-8342-4b85-ba21-d83255714fd8"
   },
   "outputs": [
    {
     "name": "stdout",
     "output_type": "stream",
     "text": [
      "Acc: 0.80 +/- 0.03\n",
      "CPU times: user 4.24 s, sys: 0 ns, total: 4.24 s\n",
      "Wall time: 4.24 s\n"
     ]
    }
   ],
   "source": [
    "%%time\n",
    "rfc = RFClassifier()\n",
    "scores = custom_CV(rfc, X, y)\n",
    "print(\"Acc: %0.2f +/- %0.2f\" % (scores.mean(), scores.std() * 2))"
   ]
  },
  {
   "cell_type": "markdown",
   "metadata": {
    "colab_type": "text",
    "id": "E6557fLbYEsf"
   },
   "source": [
    "# Churn modelling dataset"
   ]
  },
  {
   "cell_type": "code",
   "execution_count": 12,
   "metadata": {
    "colab": {},
    "colab_type": "code",
    "id": "TO2t52DuYFcz"
   },
   "outputs": [],
   "source": [
    "df = pd.read_csv('../data/modified_churn_modelling.csv')\n",
    "X, y = df.drop(['Exited'], axis=1), df['Exited']"
   ]
  },
  {
   "cell_type": "markdown",
   "metadata": {
    "colab_type": "text",
    "id": "gNwC1mBvaJeL"
   },
   "source": [
    "### Logistic regression"
   ]
  },
  {
   "cell_type": "code",
   "execution_count": 13,
   "metadata": {
    "colab": {
     "base_uri": "https://localhost:8080/",
     "height": 68
    },
    "colab_type": "code",
    "id": "PwU8U5TSbzGh",
    "outputId": "860bf87f-9a67-4827-950f-d7cf18769e34"
   },
   "outputs": [
    {
     "name": "stdout",
     "output_type": "stream",
     "text": [
      "Acc: 0.83 +/- 0.01\n",
      "CPU times: user 419 ms, sys: 235 ms, total: 654 ms\n",
      "Wall time: 220 ms\n"
     ]
    }
   ],
   "source": [
    "%%time\n",
    "lr = LogisticRegression()\n",
    "scores = custom_CV(lr, X, y)\n",
    "print(\"Acc: %0.2f +/- %0.2f\" % (scores.mean(), scores.std() * 2))"
   ]
  },
  {
   "cell_type": "code",
   "execution_count": 14,
   "metadata": {
    "colab": {
     "base_uri": "https://localhost:8080/",
     "height": 68
    },
    "colab_type": "code",
    "id": "it-7Q_eTbzQD",
    "outputId": "0bf5cd54-7afc-42be-96fa-f5f5468676af"
   },
   "outputs": [
    {
     "name": "stdout",
     "output_type": "stream",
     "text": [
      "Acc: 0.80 +/- 0.01\n",
      "CPU times: user 2.29 s, sys: 1.57 s, total: 3.86 s\n",
      "Wall time: 1.28 s\n"
     ]
    }
   ],
   "source": [
    "%%time\n",
    "lr = LogRegression()\n",
    "scores = custom_CV(lr, X, y)\n",
    "print(\"Acc: %0.2f +/- %0.2f\" % (scores.mean(), scores.std() * 2))"
   ]
  },
  {
   "cell_type": "markdown",
   "metadata": {
    "colab_type": "text",
    "id": "ZmBQ4SsRaQqU"
   },
   "source": [
    "### KNN"
   ]
  },
  {
   "cell_type": "code",
   "execution_count": 15,
   "metadata": {
    "colab": {
     "base_uri": "https://localhost:8080/",
     "height": 68
    },
    "colab_type": "code",
    "id": "CIncxLq4bz7d",
    "outputId": "67e7eb3a-075b-48a2-bb03-332be0d0d139"
   },
   "outputs": [
    {
     "name": "stdout",
     "output_type": "stream",
     "text": [
      "Acc: 0.82 +/- 0.01\n",
      "CPU times: user 828 ms, sys: 65.4 ms, total: 893 ms\n",
      "Wall time: 783 ms\n"
     ]
    }
   ],
   "source": [
    "%%time\n",
    "knn = KNeighborsClassifier()\n",
    "scores = custom_CV(knn, X, y)\n",
    "print(\"Acc: %0.2f +/- %0.2f\" % (scores.mean(), scores.std() * 2))"
   ]
  },
  {
   "cell_type": "code",
   "execution_count": 16,
   "metadata": {
    "colab": {
     "base_uri": "https://localhost:8080/",
     "height": 68
    },
    "colab_type": "code",
    "id": "lQIeOoC-b0DD",
    "outputId": "fa614aac-d3fe-4be6-ad40-8685afdde89e"
   },
   "outputs": [
    {
     "name": "stdout",
     "output_type": "stream",
     "text": [
      "Acc: 0.82 +/- 0.01\n",
      "CPU times: user 6.21 s, sys: 842 ms, total: 7.05 s\n",
      "Wall time: 5.68 s\n"
     ]
    }
   ],
   "source": [
    "%%time\n",
    "knn = KNNClassifier()\n",
    "scores = custom_CV(knn, X, y)\n",
    "print(\"Acc: %0.2f +/- %0.2f\" % (scores.mean(), scores.std() * 2))"
   ]
  },
  {
   "cell_type": "markdown",
   "metadata": {
    "colab_type": "text",
    "id": "0YFySkp6bwtd"
   },
   "source": [
    "### Decision tree"
   ]
  },
  {
   "cell_type": "code",
   "execution_count": 17,
   "metadata": {
    "colab": {
     "base_uri": "https://localhost:8080/",
     "height": 68
    },
    "colab_type": "code",
    "id": "ilRhkFqCb0pk",
    "outputId": "a1802ea6-a645-4e6d-f477-685440c5ab72"
   },
   "outputs": [
    {
     "name": "stdout",
     "output_type": "stream",
     "text": [
      "Acc: 0.79 +/- 0.02\n",
      "CPU times: user 165 ms, sys: 282 µs, total: 165 ms\n",
      "Wall time: 164 ms\n"
     ]
    }
   ],
   "source": [
    "%%time\n",
    "dtc = DecisionTreeClassifier()\n",
    "scores = custom_CV(dtc, X, y)\n",
    "print(\"Acc: %0.2f +/- %0.2f\" % (scores.mean(), scores.std() * 2))"
   ]
  },
  {
   "cell_type": "code",
   "execution_count": 18,
   "metadata": {
    "colab": {
     "base_uri": "https://localhost:8080/",
     "height": 68
    },
    "colab_type": "code",
    "id": "js74wh7Lb0x_",
    "outputId": "31dd166b-416b-49f3-9477-2db4308d5fae"
   },
   "outputs": [
    {
     "name": "stdout",
     "output_type": "stream",
     "text": [
      "Acc: 0.82 +/- 0.01\n",
      "CPU times: user 3.59 s, sys: 10.8 ms, total: 3.6 s\n",
      "Wall time: 3.6 s\n"
     ]
    }
   ],
   "source": [
    "%%time\n",
    "dtc = DTClassifier()\n",
    "scores = custom_CV(dtc, X, y)\n",
    "print(\"Acc: %0.2f +/- %0.2f\" % (scores.mean(), scores.std() * 2))"
   ]
  },
  {
   "cell_type": "markdown",
   "metadata": {
    "colab_type": "text",
    "id": "C2A1_krcbyWO"
   },
   "source": [
    "### Random Forest"
   ]
  },
  {
   "cell_type": "code",
   "execution_count": 19,
   "metadata": {
    "colab": {
     "base_uri": "https://localhost:8080/",
     "height": 68
    },
    "colab_type": "code",
    "id": "c7zvqCl9b1b2",
    "outputId": "610d7412-14ac-4e16-d7ca-28297304abd4"
   },
   "outputs": [
    {
     "name": "stdout",
     "output_type": "stream",
     "text": [
      "Acc: 0.84 +/- 0.01\n",
      "CPU times: user 369 ms, sys: 0 ns, total: 369 ms\n",
      "Wall time: 368 ms\n"
     ]
    }
   ],
   "source": [
    "%%time\n",
    "rfc = RandomForestClassifier()\n",
    "scores = custom_CV(rfc, X, y)\n",
    "print(\"Acc: %0.2f +/- %0.2f\" % (scores.mean(), scores.std() * 2))"
   ]
  },
  {
   "cell_type": "code",
   "execution_count": 20,
   "metadata": {
    "colab": {
     "base_uri": "https://localhost:8080/",
     "height": 68
    },
    "colab_type": "code",
    "id": "OXOcqlzLb1kf",
    "outputId": "584a8566-1052-481c-caf1-1aa56a425b08"
   },
   "outputs": [
    {
     "name": "stdout",
     "output_type": "stream",
     "text": [
      "Acc: 0.80 +/- 0.01\n",
      "CPU times: user 50 s, sys: 126 ms, total: 50.1 s\n",
      "Wall time: 50.3 s\n"
     ]
    }
   ],
   "source": [
    "%%time\n",
    "rfc = RFClassifier()\n",
    "scores = custom_CV(rfc, X, y)\n",
    "print(\"Acc: %0.2f +/- %0.2f\" % (scores.mean(), scores.std() * 2))"
   ]
  }
 ],
 "metadata": {
  "colab": {
   "collapsed_sections": [],
   "name": "Lab2.ipynb",
   "provenance": [],
   "toc_visible": true
  },
  "kernelspec": {
   "display_name": "Python 3.7.4 64-bit ('base': conda)",
   "language": "python",
   "name": "python37464bitbasecondab21ad4c768ac41fea863797617a97634"
  },
  "language_info": {
   "codemirror_mode": {
    "name": "ipython",
    "version": 3
   },
   "file_extension": ".py",
   "mimetype": "text/x-python",
   "name": "python",
   "nbconvert_exporter": "python",
   "pygments_lexer": "ipython3",
   "version": "3.7.4"
  }
 },
 "nbformat": 4,
 "nbformat_minor": 1
}
